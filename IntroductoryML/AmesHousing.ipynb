{
  "cells": [
    {
      "cell_type": "markdown",
      "metadata": {
        "id": "FopMAQXyS7Sp"
      },
      "source": [
        "# Lab:  Simple linear regression\n",
        "\n",
        "In this lab, you will load data, plot data, perform simple mathematical manipulations, and fit a simple linear regression model.  Before doing this lab, you can go through the demo for the unit to see an example of these operations on an automobile dataset.  This lab uses the Ames Housing data set, which is a widely-used machine learning data set for illustrating basic concepts.  "
      ]
    },
    {
      "cell_type": "markdown",
      "metadata": {
        "collapsed": true,
        "id": "CgmAV8-cS7Sr"
      },
      "source": [
        "## Loading the data\n",
        "\n",
        "The Ames housing data set was collected in the late 2000s as an alternative to the (very famous but ethically problematic) Boston housing dataset.  Both are set up to predict the sales price of a house given various characteristics of the house and neighborhood. \n",
        "\n",
        "We first load the Ames housing dataset, which happens to be built into sklearn."
      ]
    },
    {
      "cell_type": "code",
      "execution_count": null,
      "metadata": {
        "id": "7Pr3HLSCS7Ss"
      },
      "outputs": [],
      "source": [
        "from sklearn.datasets import fetch_openml\n",
        "housing = fetch_openml(name=\"house_prices\", as_frame=True)"
      ]
    },
    {
      "cell_type": "markdown",
      "metadata": {
        "id": "72FwaQMDS7Ss"
      },
      "source": [
        "Let's see what the dataset contains."
      ]
    },
    {
      "cell_type": "code",
      "execution_count": null,
      "metadata": {
        "colab": {
          "base_uri": "https://localhost:8080/"
        },
        "id": "K_GDK6NPS7St",
        "outputId": "974a97b8-28f6-4c10-9821-7a5ced0ea926"
      },
      "outputs": [
        {
          "output_type": "stream",
          "name": "stdout",
          "text": [
            "dict_keys(['data', 'target', 'frame', 'categories', 'feature_names', 'target_names', 'DESCR', 'details', 'url'])\n"
          ]
        }
      ],
      "source": [
        "print(housing.keys())"
      ]
    },
    {
      "cell_type": "markdown",
      "metadata": {
        "id": "vFV2pDWvS7St"
      },
      "source": [
        "For our purposes, the most important components of `housing` are\n",
        "* `data`: which contains the information for various houses,\n",
        "* `target`: which contains their sale prices,\n",
        "* `feature_names`: which contains a list of the feature names, and\n",
        "* `DESCR`: which describes the dataset\n",
        "\n",
        "Let's print the description."
      ]
    },
    {
      "cell_type": "code",
      "execution_count": null,
      "metadata": {
        "colab": {
          "base_uri": "https://localhost:8080/"
        },
        "id": "J4y_FG2QS7St",
        "outputId": "c4e1e5f7-d470-4e7e-c11f-ab3eb4933eb1"
      },
      "outputs": [
        {
          "output_type": "stream",
          "name": "stdout",
          "text": [
            "Ask a home buyer to describe their dream house, and they probably won't begin with the height of the basement ceiling or the proximity to an east-west railroad. But this playground competition's dataset proves that much more influences price negotiations than the number of bedrooms or a white-picket fence.\n",
            "\n",
            "With 79 explanatory variables describing (almost) every aspect of residential homes in Ames, Iowa, this competition challenges you to predict the final price of each home.\n",
            "\n",
            "MSSubClass: Identifies the type of dwelling involved in the sale.\t\n",
            "\n",
            "        20\t1-STORY 1946 & NEWER ALL STYLES\n",
            "        30\t1-STORY 1945 & OLDER\n",
            "        40\t1-STORY W/FINISHED ATTIC ALL AGES\n",
            "        45\t1-1/2 STORY - UNFINISHED ALL AGES\n",
            "        50\t1-1/2 STORY FINISHED ALL AGES\n",
            "        60\t2-STORY 1946 & NEWER\n",
            "        70\t2-STORY 1945 & OLDER\n",
            "        75\t2-1/2 STORY ALL AGES\n",
            "        80\tSPLIT OR MULTI-LEVEL\n",
            "        85\tSPLIT FOYER\n",
            "        90\tDUPLEX - ALL STYLES AND AGES\n",
            "       120\t1-STORY PUD (Planned Unit Development) - 1946 & NEWER\n",
            "       150\t1-1/2 STORY PUD - ALL AGES\n",
            "       160\t2-STORY PUD - 1946 & NEWER\n",
            "       180\tPUD - MULTILEVEL - INCL SPLIT LEV/FOYER\n",
            "       190\t2 FAMILY CONVERSION - ALL STYLES AND AGES\n",
            "\n",
            "MSZoning: Identifies the general zoning classification of the sale.\n",
            "\t\t\n",
            "       A\tAgriculture\n",
            "       C\tCommercial\n",
            "       FV\tFloating Village Residential\n",
            "       I\tIndustrial\n",
            "       RH\tResidential High Density\n",
            "       RL\tResidential Low Density\n",
            "       RP\tResidential Low Density Park \n",
            "       RM\tResidential Medium Density\n",
            "\t\n",
            "LotFrontage: Linear feet of street connected to property\n",
            "\n",
            "LotArea: Lot size in square feet\n",
            "\n",
            "Street: Type of road access to property\n",
            "\n",
            "       Grvl\tGravel\t\n",
            "       Pave\tPaved\n",
            "       \t\n",
            "Alley: Type of alley access to property\n",
            "\n",
            "       Grvl\tGravel\n",
            "       Pave\tPaved\n",
            "       NA \tNo alley access\n",
            "\t\t\n",
            "LotShape: General shape of property\n",
            "\n",
            "       Reg\tRegular\t\n",
            "       IR1\tSlightly irregular\n",
            "       IR2\tModerately Irregular\n",
            "       IR3\tIrregular\n",
            "       \n",
            "LandContour: Flatness of the property\n",
            "\n",
            "       Lvl\tNear Flat/Level\t\n",
            "       Bnk\tBanked - Quick and significant rise from street grade to building\n",
            "       HLS\tHillside - Significant slope from side to side\n",
            "       Low\tDepression\n",
            "\t\t\n",
            "Utilities: Type of utilities available\n",
            "\t\t\n",
            "       AllPub\tAll public Utilities (E,G,W,& S)\t\n",
            "       NoSewr\tElectricity, Gas, and Water (Septic Tank)\n",
            "       NoSeWa\tElectricity and Gas Only\n",
            "       ELO\tElectricity only\t\n",
            "\t\n",
            "LotConfig: Lot configuration\n",
            "\n",
            "       Inside\tInside lot\n",
            "       Corner\tCorner lot\n",
            "       CulDSac\tCul-de-sac\n",
            "       FR2\tFrontage on 2 sides of property\n",
            "       FR3\tFrontage on 3 sides of property\n",
            "\t\n",
            "LandSlope: Slope of property\n",
            "\t\t\n",
            "       Gtl\tGentle slope\n",
            "       Mod\tModerate Slope\t\n",
            "       Sev\tSevere Slope\n",
            "\t\n",
            "Neighborhood: Physical locations within Ames city limits\n",
            "\n",
            "       Blmngtn\tBloomington Heights\n",
            "       Blueste\tBluestem\n",
            "       BrDale\tBriardale\n",
            "       BrkSide\tBrookside\n",
            "       ClearCr\tClear Creek\n",
            "       CollgCr\tCollege Creek\n",
            "       Crawfor\tCrawford\n",
            "       Edwards\tEdwards\n",
            "       Gilbert\tGilbert\n",
            "       IDOTRR\tIowa DOT and Rail Road\n",
            "       MeadowV\tMeadow Village\n",
            "       Mitchel\tMitchell\n",
            "       Names\tNorth Ames\n",
            "       NoRidge\tNorthridge\n",
            "       NPkVill\tNorthpark Villa\n",
            "       NridgHt\tNorthridge Heights\n",
            "       NWAmes\tNorthwest Ames\n",
            "       OldTown\tOld Town\n",
            "       SWISU\tSouth & West of Iowa State University\n",
            "       Sawyer\tSawyer\n",
            "       SawyerW\tSawyer West\n",
            "       Somerst\tSomerset\n",
            "       StoneBr\tStone Brook\n",
            "       Timber\tTimberland\n",
            "       Veenker\tVeenker\n",
            "\t\t\t\n",
            "Condition1: Proximity to various conditions\n",
            "\t\n",
            "       Artery\tAdjacent to arterial street\n",
            "       Feedr\tAdjacent to feeder street\t\n",
            "       Norm\tNormal\t\n",
            "       RRNn\tWithin 200' of North-South Railroad\n",
            "       RRAn\tAdjacent to North-South Railroad\n",
            "       PosN\tNear positive off-site feature--park, greenbelt, etc.\n",
            "       PosA\tAdjacent to postive off-site feature\n",
            "       RRNe\tWithin 200' of East-West Railroad\n",
            "       RRAe\tAdjacent to East-West Railroad\n",
            "\t\n",
            "Condition2: Proximity to various conditions (if more than one is present)\n",
            "\t\t\n",
            "       Artery\tAdjacent to arterial street\n",
            "       Feedr\tAdjacent to feeder street\t\n",
            "       Norm\tNormal\t\n",
            "       RRNn\tWithin 200' of North-South Railroad\n",
            "       RRAn\tAdjacent to North-South Railroad\n",
            "       PosN\tNear positive off-site feature--park, greenbelt, etc.\n",
            "       PosA\tAdjacent to postive off-site feature\n",
            "       RRNe\tWithin 200' of East-West Railroad\n",
            "       RRAe\tAdjacent to East-West Railroad\n",
            "\t\n",
            "BldgType: Type of dwelling\n",
            "\t\t\n",
            "       1Fam\tSingle-family Detached\t\n",
            "       2FmCon\tTwo-family Conversion; originally built as one-family dwelling\n",
            "       Duplx\tDuplex\n",
            "       TwnhsE\tTownhouse End Unit\n",
            "       TwnhsI\tTownhouse Inside Unit\n",
            "\t\n",
            "HouseStyle: Style of dwelling\n",
            "\t\n",
            "       1Story\tOne story\n",
            "       1.5Fin\tOne and one-half story: 2nd level finished\n",
            "       1.5Unf\tOne and one-half story: 2nd level unfinished\n",
            "       2Story\tTwo story\n",
            "       2.5Fin\tTwo and one-half story: 2nd level finished\n",
            "       2.5Unf\tTwo and one-half story: 2nd level unfinished\n",
            "       SFoyer\tSplit Foyer\n",
            "       SLvl\tSplit Level\n",
            "\t\n",
            "OverallQual: Rates the overall material and finish of the house\n",
            "\n",
            "       10\tVery Excellent\n",
            "       9\tExcellent\n",
            "       8\tVery Good\n",
            "       7\tGood\n",
            "       6\tAbove Average\n",
            "       5\tAverage\n",
            "       4\tBelow Average\n",
            "       3\tFair\n",
            "       2\tPoor\n",
            "       1\tVery Poor\n",
            "\t\n",
            "OverallCond: Rates the overall condition of the house\n",
            "\n",
            "       10\tVery Excellent\n",
            "       9\tExcellent\n",
            "       8\tVery Good\n",
            "       7\tGood\n",
            "       6\tAbove Average\t\n",
            "       5\tAverage\n",
            "       4\tBelow Average\t\n",
            "       3\tFair\n",
            "       2\tPoor\n",
            "       1\tVery Poor\n",
            "\t\t\n",
            "YearBuilt: Original construction date\n",
            "\n",
            "YearRemodAdd: Remodel date (same as construction date if no remodeling or additions)\n",
            "\n",
            "RoofStyle: Type of roof\n",
            "\n",
            "       Flat\tFlat\n",
            "       Gable\tGable\n",
            "       Gambrel\tGabrel (Barn)\n",
            "       Hip\tHip\n",
            "       Mansard\tMansard\n",
            "       Shed\tShed\n",
            "\t\t\n",
            "RoofMatl: Roof material\n",
            "\n",
            "       ClyTile\tClay or Tile\n",
            "       CompShg\tStandard (Composite) Shingle\n",
            "       Membran\tMembrane\n",
            "       Metal\tMetal\n",
            "       Roll\tRoll\n",
            "       Tar&Grv\tGravel & Tar\n",
            "       WdShake\tWood Shakes\n",
            "       WdShngl\tWood Shingles\n",
            "\t\t\n",
            "Exterior1st: Exterior covering on house\n",
            "\n",
            "       AsbShng\tAsbestos Shingles\n",
            "       AsphShn\tAsphalt Shingles\n",
            "       BrkComm\tBrick Common\n",
            "       BrkFace\tBrick Face\n",
            "       CBlock\tCinder Block\n",
            "       CemntBd\tCement Board\n",
            "       HdBoard\tHard Board\n",
            "       ImStucc\tImitation Stucco\n",
            "       MetalSd\tMetal Siding\n",
            "       Other\tOther\n",
            "       Plywood\tPlywood\n",
            "       PreCast\tPreCast\t\n",
            "       Stone\tStone\n",
            "       Stucco\tStucco\n",
            "       VinylSd\tVinyl Siding\n",
            "       Wd Sdng\tWood Siding\n",
            "       WdShing\tWood Shingles\n",
            "\t\n",
            "Exterior2nd: Exterior covering on house (if more than one material)\n",
            "\n",
            "       AsbShng\tAsbestos Shingles\n",
            "       AsphShn\tAsphalt Shingles\n",
            "       BrkComm\tBrick Common\n",
            "       BrkFace\tBrick Face\n",
            "       CBlock\tCinder Block\n",
            "       CemntBd\tCement Board\n",
            "       HdBoard\tHard Board\n",
            "       ImStucc\tImitation Stucco\n",
            "       MetalSd\tMetal Siding\n",
            "       Other\tOther\n",
            "       Plywood\tPlywood\n",
            "       PreCast\tPreCast\n",
            "       Stone\tStone\n",
            "       Stucco\tStucco\n",
            "       VinylSd\tVinyl Siding\n",
            "       Wd Sdng\tWood Siding\n",
            "       WdShing\tWood Shingles\n",
            "\t\n",
            "MasVnrType: Masonry veneer type\n",
            "\n",
            "       BrkCmn\tBrick Common\n",
            "       BrkFace\tBrick Face\n",
            "       CBlock\tCinder Block\n",
            "       None\tNone\n",
            "       Stone\tStone\n",
            "\t\n",
            "MasVnrArea: Masonry veneer area in square feet\n",
            "\n",
            "ExterQual: Evaluates the quality of the material on the exterior \n",
            "\t\t\n",
            "       Ex\tExcellent\n",
            "       Gd\tGood\n",
            "       TA\tAverage/Typical\n",
            "       Fa\tFair\n",
            "       Po\tPoor\n",
            "\t\t\n",
            "ExterCond: Evaluates the present condition of the material on the exterior\n",
            "\t\t\n",
            "       Ex\tExcellent\n",
            "       Gd\tGood\n",
            "       TA\tAverage/Typical\n",
            "       Fa\tFair\n",
            "       Po\tPoor\n",
            "\t\t\n",
            "Foundation: Type of foundation\n",
            "\t\t\n",
            "       BrkTil\tBrick & Tile\n",
            "       CBlock\tCinder Block\n",
            "       PConc\tPoured Contrete\t\n",
            "       Slab\tSlab\n",
            "       Stone\tStone\n",
            "       Wood\tWood\n",
            "\t\t\n",
            "BsmtQual: Evaluates the height of the basement\n",
            "\n",
            "       Ex\tExcellent (100+ inches)\t\n",
            "       Gd\tGood (90-99 inches)\n",
            "       TA\tTypical (80-89 inches)\n",
            "       Fa\tFair (70-79 inches)\n",
            "       Po\tPoor (<70 inches\n",
            "       NA\tNo Basement\n",
            "\t\t\n",
            "BsmtCond: Evaluates the general condition of the basement\n",
            "\n",
            "       Ex\tExcellent\n",
            "       Gd\tGood\n",
            "       TA\tTypical - slight dampness allowed\n",
            "       Fa\tFair - dampness or some cracking or settling\n",
            "       Po\tPoor - Severe cracking, settling, or wetness\n",
            "       NA\tNo Basement\n",
            "\t\n",
            "BsmtExposure: Refers to walkout or garden level walls\n",
            "\n",
            "       Gd\tGood Exposure\n",
            "       Av\tAverage Exposure (split levels or foyers typically score average or above)\t\n",
            "       Mn\tMimimum Exposure\n",
            "       No\tNo Exposure\n",
            "       NA\tNo Basement\n",
            "\t\n",
            "BsmtFinType1: Rating of basement finished area\n",
            "\n",
            "       GLQ\tGood Living Quarters\n",
            "       ALQ\tAverage Living Quarters\n",
            "       BLQ\tBelow Average Living Quarters\t\n",
            "       Rec\tAverage Rec Room\n",
            "       LwQ\tLow Quality\n",
            "       Unf\tUnfinshed\n",
            "       NA\tNo Basement\n",
            "\t\t\n",
            "BsmtFinSF1: Type 1 finished square feet\n",
            "\n",
            "BsmtFinType2: Rating of basement finished area (if multiple types)\n",
            "\n",
            "       GLQ\tGood Living Quarters\n",
            "       ALQ\tAverage Living Quarters\n",
            "       BLQ\tBelow Average Living Quarters\t\n",
            "       Rec\tAverage Rec Room\n",
            "       LwQ\tLow Quality\n",
            "       Unf\tUnfinshed\n",
            "       NA\tNo Basement\n",
            "\n",
            "BsmtFinSF2: Type 2 finished square feet\n",
            "\n",
            "BsmtUnfSF: Unfinished square feet of basement area\n",
            "\n",
            "TotalBsmtSF: Total square feet of basement area\n",
            "\n",
            "Heating: Type of heating\n",
            "\t\t\n",
            "       Floor\tFloor Furnace\n",
            "       GasA\tGas forced warm air furnace\n",
            "       GasW\tGas hot water or steam heat\n",
            "       Grav\tGravity furnace\t\n",
            "       OthW\tHot water or steam heat other than gas\n",
            "       Wall\tWall furnace\n",
            "\t\t\n",
            "HeatingQC: Heating quality and condition\n",
            "\n",
            "       Ex\tExcellent\n",
            "       Gd\tGood\n",
            "       TA\tAverage/Typical\n",
            "       Fa\tFair\n",
            "       Po\tPoor\n",
            "\t\t\n",
            "CentralAir: Central air conditioning\n",
            "\n",
            "       N\tNo\n",
            "       Y\tYes\n",
            "\t\t\n",
            "Electrical: Electrical system\n",
            "\n",
            "       SBrkr\tStandard Circuit Breakers & Romex\n",
            "       FuseA\tFuse Box over 60 AMP and all Romex wiring (Average)\t\n",
            "       FuseF\t60 AMP Fuse Box and mostly Romex wiring (Fair)\n",
            "       FuseP\t60 AMP Fuse Box and mostly knob & tube wiring (poor)\n",
            "       Mix\tMixed\n",
            "\t\t\n",
            "1stFlrSF: First Floor square feet\n",
            " \n",
            "2ndFlrSF: Second floor square feet\n",
            "\n",
            "LowQualFinSF: Low quality finished square feet (all floors)\n",
            "\n",
            "GrLivArea: Above grade (ground) living area square feet\n",
            "\n",
            "BsmtFullBath: Basement full bathrooms\n",
            "\n",
            "BsmtHalfBath: Basement half bathrooms\n",
            "\n",
            "FullBath: Full bathrooms above grade\n",
            "\n",
            "HalfBath: Half baths above grade\n",
            "\n",
            "Bedroom: Bedrooms above grade (does NOT include basement bedrooms)\n",
            "\n",
            "Kitchen: Kitchens above grade\n",
            "\n",
            "KitchenQual: Kitchen quality\n",
            "\n",
            "       Ex\tExcellent\n",
            "       Gd\tGood\n",
            "       TA\tTypical/Average\n",
            "       Fa\tFair\n",
            "       Po\tPoor\n",
            "       \t\n",
            "TotRmsAbvGrd: Total rooms above grade (does not include bathrooms)\n",
            "\n",
            "Functional: Home functionality (Assume typical unless deductions are warranted)\n",
            "\n",
            "       Typ\tTypical Functionality\n",
            "       Min1\tMinor Deductions 1\n",
            "       Min2\tMinor Deductions 2\n",
            "       Mod\tModerate Deductions\n",
            "       Maj1\tMajor Deductions 1\n",
            "       Maj2\tMajor Deductions 2\n",
            "       Sev\tSeverely Damaged\n",
            "       Sal\tSalvage only\n",
            "\t\t\n",
            "Fireplaces: Number of fireplaces\n",
            "\n",
            "FireplaceQu: Fireplace quality\n",
            "\n",
            "       Ex\tExcellent - Exceptional Masonry Fireplace\n",
            "       Gd\tGood - Masonry Fireplace in main level\n",
            "       TA\tAverage - Prefabricated Fireplace in main living area or Masonry Fireplace in basement\n",
            "       Fa\tFair - Prefabricated Fireplace in basement\n",
            "       Po\tPoor - Ben Franklin Stove\n",
            "       NA\tNo Fireplace\n",
            "\t\t\n",
            "GarageType: Garage location\n",
            "\t\t\n",
            "       2Types\tMore than one type of garage\n",
            "       Attchd\tAttached to home\n",
            "       Basment\tBasement Garage\n",
            "       BuiltIn\tBuilt-In (Garage part of house - typically has room above garage)\n",
            "       CarPort\tCar Port\n",
            "       Detchd\tDetached from home\n",
            "       NA\tNo Garage\n",
            "\t\t\n",
            "GarageYrBlt: Year garage was built\n",
            "\t\t\n",
            "GarageFinish: Interior finish of the garage\n",
            "\n",
            "       Fin\tFinished\n",
            "       RFn\tRough Finished\t\n",
            "       Unf\tUnfinished\n",
            "       NA\tNo Garage\n",
            "\t\t\n",
            "GarageCars: Size of garage in car capacity\n",
            "\n",
            "GarageArea: Size of garage in square feet\n",
            "\n",
            "GarageQual: Garage quality\n",
            "\n",
            "       Ex\tExcellent\n",
            "       Gd\tGood\n",
            "       TA\tTypical/Average\n",
            "       Fa\tFair\n",
            "       Po\tPoor\n",
            "       NA\tNo Garage\n",
            "\t\t\n",
            "GarageCond: Garage condition\n",
            "\n",
            "       Ex\tExcellent\n",
            "       Gd\tGood\n",
            "       TA\tTypical/Average\n",
            "       Fa\tFair\n",
            "       Po\tPoor\n",
            "       NA\tNo Garage\n",
            "\t\t\n",
            "PavedDrive: Paved driveway\n",
            "\n",
            "       Y\tPaved \n",
            "       P\tPartial Pavement\n",
            "       N\tDirt/Gravel\n",
            "\t\t\n",
            "WoodDeckSF: Wood deck area in square feet\n",
            "\n",
            "OpenPorchSF: Open porch area in square feet\n",
            "\n",
            "EnclosedPorch: Enclosed porch area in square feet\n",
            "\n",
            "3SsnPorch: Three season porch area in square feet\n",
            "\n",
            "ScreenPorch: Screen porch area in square feet\n",
            "\n",
            "PoolArea: Pool area in square feet\n",
            "\n",
            "PoolQC: Pool quality\n",
            "\t\t\n",
            "       Ex\tExcellent\n",
            "       Gd\tGood\n",
            "       TA\tAverage/Typical\n",
            "       Fa\tFair\n",
            "       NA\tNo Pool\n",
            "\t\t\n",
            "Fence: Fence quality\n",
            "\t\t\n",
            "       GdPrv\tGood Privacy\n",
            "       MnPrv\tMinimum Privacy\n",
            "       GdWo\tGood Wood\n",
            "       MnWw\tMinimum Wood/Wire\n",
            "       NA\tNo Fence\n",
            "\t\n",
            "MiscFeature: Miscellaneous feature not covered in other categories\n",
            "\t\t\n",
            "       Elev\tElevator\n",
            "       Gar2\t2nd Garage (if not described in garage section)\n",
            "       Othr\tOther\n",
            "       Shed\tShed (over 100 SF)\n",
            "       TenC\tTennis Court\n",
            "       NA\tNone\n",
            "\t\t\n",
            "MiscVal: $Value of miscellaneous feature\n",
            "\n",
            "MoSold: Month Sold (MM)\n",
            "\n",
            "YrSold: Year Sold (YYYY)\n",
            "\n",
            "SaleType: Type of sale\n",
            "\t\t\n",
            "       WD \tWarranty Deed - Conventional\n",
            "       CWD\tWarranty Deed - Cash\n",
            "       VWD\tWarranty Deed - VA Loan\n",
            "       New\tHome just constructed and sold\n",
            "       COD\tCourt Officer Deed/Estate\n",
            "       Con\tContract 15% Down payment regular terms\n",
            "       ConLw\tContract Low Down payment and low interest\n",
            "       ConLI\tContract Low Interest\n",
            "       ConLD\tContract Low Down\n",
            "       Oth\tOther\n",
            "\t\t\n",
            "SaleCondition: Condition of sale\n",
            "\n",
            "       Normal\tNormal Sale\n",
            "       Abnorml\tAbnormal Sale -  trade, foreclosure, short sale\n",
            "       AdjLand\tAdjoining Land Purchase\n",
            "       Alloca\tAllocation - two linked properties with separate deeds, typically condo with a garage unit\t\n",
            "       Family\tSale between family members\n",
            "       Partial\tHome was not completed when last assessed (associated with New Homes)\n",
            "\n",
            "Downloaded from openml.org.\n"
          ]
        }
      ],
      "source": [
        "print(housing.DESCR)"
      ]
    },
    {
      "cell_type": "markdown",
      "metadata": {
        "id": "bIHAlC_OS7Su"
      },
      "source": [
        "Let's turn this dataset into a `pandas` dataframe for ease of handling."
      ]
    },
    {
      "cell_type": "code",
      "execution_count": null,
      "metadata": {
        "id": "r7ewqsh-S7Su"
      },
      "outputs": [],
      "source": [
        "import pandas as pd\n",
        "df = pd.DataFrame(housing.data) # load numerical data"
      ]
    },
    {
      "cell_type": "markdown",
      "metadata": {
        "id": "-0gJGrWCS7Su"
      },
      "source": [
        "Display the first six rows of the data frame"
      ]
    },
    {
      "cell_type": "code",
      "execution_count": null,
      "metadata": {
        "colab": {
          "base_uri": "https://localhost:8080/",
          "height": 328
        },
        "id": "AfjI4x0yS7Su",
        "outputId": "da384c2b-d00b-4731-8a77-44b98972acc8"
      },
      "outputs": [
        {
          "output_type": "execute_result",
          "data": {
            "text/plain": [
              "    Id  MSSubClass MSZoning  LotFrontage  LotArea Street Alley LotShape  \\\n",
              "0  1.0        60.0       RL         65.0   8450.0   Pave  None      Reg   \n",
              "1  2.0        20.0       RL         80.0   9600.0   Pave  None      Reg   \n",
              "2  3.0        60.0       RL         68.0  11250.0   Pave  None      IR1   \n",
              "3  4.0        70.0       RL         60.0   9550.0   Pave  None      IR1   \n",
              "4  5.0        60.0       RL         84.0  14260.0   Pave  None      IR1   \n",
              "5  6.0        50.0       RL         85.0  14115.0   Pave  None      IR1   \n",
              "\n",
              "  LandContour Utilities  ... ScreenPorch PoolArea PoolQC  Fence MiscFeature  \\\n",
              "0         Lvl    AllPub  ...         0.0      0.0   None   None        None   \n",
              "1         Lvl    AllPub  ...         0.0      0.0   None   None        None   \n",
              "2         Lvl    AllPub  ...         0.0      0.0   None   None        None   \n",
              "3         Lvl    AllPub  ...         0.0      0.0   None   None        None   \n",
              "4         Lvl    AllPub  ...         0.0      0.0   None   None        None   \n",
              "5         Lvl    AllPub  ...         0.0      0.0   None  MnPrv        Shed   \n",
              "\n",
              "  MiscVal MoSold  YrSold  SaleType  SaleCondition  \n",
              "0     0.0    2.0  2008.0        WD         Normal  \n",
              "1     0.0    5.0  2007.0        WD         Normal  \n",
              "2     0.0    9.0  2008.0        WD         Normal  \n",
              "3     0.0    2.0  2006.0        WD        Abnorml  \n",
              "4     0.0   12.0  2008.0        WD         Normal  \n",
              "5   700.0   10.0  2009.0        WD         Normal  \n",
              "\n",
              "[6 rows x 80 columns]"
            ],
            "text/html": [
              "\n",
              "  <div id=\"df-323ae01e-14f4-4292-be8c-91c4b4f2bf26\">\n",
              "    <div class=\"colab-df-container\">\n",
              "      <div>\n",
              "<style scoped>\n",
              "    .dataframe tbody tr th:only-of-type {\n",
              "        vertical-align: middle;\n",
              "    }\n",
              "\n",
              "    .dataframe tbody tr th {\n",
              "        vertical-align: top;\n",
              "    }\n",
              "\n",
              "    .dataframe thead th {\n",
              "        text-align: right;\n",
              "    }\n",
              "</style>\n",
              "<table border=\"1\" class=\"dataframe\">\n",
              "  <thead>\n",
              "    <tr style=\"text-align: right;\">\n",
              "      <th></th>\n",
              "      <th>Id</th>\n",
              "      <th>MSSubClass</th>\n",
              "      <th>MSZoning</th>\n",
              "      <th>LotFrontage</th>\n",
              "      <th>LotArea</th>\n",
              "      <th>Street</th>\n",
              "      <th>Alley</th>\n",
              "      <th>LotShape</th>\n",
              "      <th>LandContour</th>\n",
              "      <th>Utilities</th>\n",
              "      <th>...</th>\n",
              "      <th>ScreenPorch</th>\n",
              "      <th>PoolArea</th>\n",
              "      <th>PoolQC</th>\n",
              "      <th>Fence</th>\n",
              "      <th>MiscFeature</th>\n",
              "      <th>MiscVal</th>\n",
              "      <th>MoSold</th>\n",
              "      <th>YrSold</th>\n",
              "      <th>SaleType</th>\n",
              "      <th>SaleCondition</th>\n",
              "    </tr>\n",
              "  </thead>\n",
              "  <tbody>\n",
              "    <tr>\n",
              "      <th>0</th>\n",
              "      <td>1.0</td>\n",
              "      <td>60.0</td>\n",
              "      <td>RL</td>\n",
              "      <td>65.0</td>\n",
              "      <td>8450.0</td>\n",
              "      <td>Pave</td>\n",
              "      <td>None</td>\n",
              "      <td>Reg</td>\n",
              "      <td>Lvl</td>\n",
              "      <td>AllPub</td>\n",
              "      <td>...</td>\n",
              "      <td>0.0</td>\n",
              "      <td>0.0</td>\n",
              "      <td>None</td>\n",
              "      <td>None</td>\n",
              "      <td>None</td>\n",
              "      <td>0.0</td>\n",
              "      <td>2.0</td>\n",
              "      <td>2008.0</td>\n",
              "      <td>WD</td>\n",
              "      <td>Normal</td>\n",
              "    </tr>\n",
              "    <tr>\n",
              "      <th>1</th>\n",
              "      <td>2.0</td>\n",
              "      <td>20.0</td>\n",
              "      <td>RL</td>\n",
              "      <td>80.0</td>\n",
              "      <td>9600.0</td>\n",
              "      <td>Pave</td>\n",
              "      <td>None</td>\n",
              "      <td>Reg</td>\n",
              "      <td>Lvl</td>\n",
              "      <td>AllPub</td>\n",
              "      <td>...</td>\n",
              "      <td>0.0</td>\n",
              "      <td>0.0</td>\n",
              "      <td>None</td>\n",
              "      <td>None</td>\n",
              "      <td>None</td>\n",
              "      <td>0.0</td>\n",
              "      <td>5.0</td>\n",
              "      <td>2007.0</td>\n",
              "      <td>WD</td>\n",
              "      <td>Normal</td>\n",
              "    </tr>\n",
              "    <tr>\n",
              "      <th>2</th>\n",
              "      <td>3.0</td>\n",
              "      <td>60.0</td>\n",
              "      <td>RL</td>\n",
              "      <td>68.0</td>\n",
              "      <td>11250.0</td>\n",
              "      <td>Pave</td>\n",
              "      <td>None</td>\n",
              "      <td>IR1</td>\n",
              "      <td>Lvl</td>\n",
              "      <td>AllPub</td>\n",
              "      <td>...</td>\n",
              "      <td>0.0</td>\n",
              "      <td>0.0</td>\n",
              "      <td>None</td>\n",
              "      <td>None</td>\n",
              "      <td>None</td>\n",
              "      <td>0.0</td>\n",
              "      <td>9.0</td>\n",
              "      <td>2008.0</td>\n",
              "      <td>WD</td>\n",
              "      <td>Normal</td>\n",
              "    </tr>\n",
              "    <tr>\n",
              "      <th>3</th>\n",
              "      <td>4.0</td>\n",
              "      <td>70.0</td>\n",
              "      <td>RL</td>\n",
              "      <td>60.0</td>\n",
              "      <td>9550.0</td>\n",
              "      <td>Pave</td>\n",
              "      <td>None</td>\n",
              "      <td>IR1</td>\n",
              "      <td>Lvl</td>\n",
              "      <td>AllPub</td>\n",
              "      <td>...</td>\n",
              "      <td>0.0</td>\n",
              "      <td>0.0</td>\n",
              "      <td>None</td>\n",
              "      <td>None</td>\n",
              "      <td>None</td>\n",
              "      <td>0.0</td>\n",
              "      <td>2.0</td>\n",
              "      <td>2006.0</td>\n",
              "      <td>WD</td>\n",
              "      <td>Abnorml</td>\n",
              "    </tr>\n",
              "    <tr>\n",
              "      <th>4</th>\n",
              "      <td>5.0</td>\n",
              "      <td>60.0</td>\n",
              "      <td>RL</td>\n",
              "      <td>84.0</td>\n",
              "      <td>14260.0</td>\n",
              "      <td>Pave</td>\n",
              "      <td>None</td>\n",
              "      <td>IR1</td>\n",
              "      <td>Lvl</td>\n",
              "      <td>AllPub</td>\n",
              "      <td>...</td>\n",
              "      <td>0.0</td>\n",
              "      <td>0.0</td>\n",
              "      <td>None</td>\n",
              "      <td>None</td>\n",
              "      <td>None</td>\n",
              "      <td>0.0</td>\n",
              "      <td>12.0</td>\n",
              "      <td>2008.0</td>\n",
              "      <td>WD</td>\n",
              "      <td>Normal</td>\n",
              "    </tr>\n",
              "    <tr>\n",
              "      <th>5</th>\n",
              "      <td>6.0</td>\n",
              "      <td>50.0</td>\n",
              "      <td>RL</td>\n",
              "      <td>85.0</td>\n",
              "      <td>14115.0</td>\n",
              "      <td>Pave</td>\n",
              "      <td>None</td>\n",
              "      <td>IR1</td>\n",
              "      <td>Lvl</td>\n",
              "      <td>AllPub</td>\n",
              "      <td>...</td>\n",
              "      <td>0.0</td>\n",
              "      <td>0.0</td>\n",
              "      <td>None</td>\n",
              "      <td>MnPrv</td>\n",
              "      <td>Shed</td>\n",
              "      <td>700.0</td>\n",
              "      <td>10.0</td>\n",
              "      <td>2009.0</td>\n",
              "      <td>WD</td>\n",
              "      <td>Normal</td>\n",
              "    </tr>\n",
              "  </tbody>\n",
              "</table>\n",
              "<p>6 rows × 80 columns</p>\n",
              "</div>\n",
              "      <button class=\"colab-df-convert\" onclick=\"convertToInteractive('df-323ae01e-14f4-4292-be8c-91c4b4f2bf26')\"\n",
              "              title=\"Convert this dataframe to an interactive table.\"\n",
              "              style=\"display:none;\">\n",
              "        \n",
              "  <svg xmlns=\"http://www.w3.org/2000/svg\" height=\"24px\"viewBox=\"0 0 24 24\"\n",
              "       width=\"24px\">\n",
              "    <path d=\"M0 0h24v24H0V0z\" fill=\"none\"/>\n",
              "    <path d=\"M18.56 5.44l.94 2.06.94-2.06 2.06-.94-2.06-.94-.94-2.06-.94 2.06-2.06.94zm-11 1L8.5 8.5l.94-2.06 2.06-.94-2.06-.94L8.5 2.5l-.94 2.06-2.06.94zm10 10l.94 2.06.94-2.06 2.06-.94-2.06-.94-.94-2.06-.94 2.06-2.06.94z\"/><path d=\"M17.41 7.96l-1.37-1.37c-.4-.4-.92-.59-1.43-.59-.52 0-1.04.2-1.43.59L10.3 9.45l-7.72 7.72c-.78.78-.78 2.05 0 2.83L4 21.41c.39.39.9.59 1.41.59.51 0 1.02-.2 1.41-.59l7.78-7.78 2.81-2.81c.8-.78.8-2.07 0-2.86zM5.41 20L4 18.59l7.72-7.72 1.47 1.35L5.41 20z\"/>\n",
              "  </svg>\n",
              "      </button>\n",
              "      \n",
              "  <style>\n",
              "    .colab-df-container {\n",
              "      display:flex;\n",
              "      flex-wrap:wrap;\n",
              "      gap: 12px;\n",
              "    }\n",
              "\n",
              "    .colab-df-convert {\n",
              "      background-color: #E8F0FE;\n",
              "      border: none;\n",
              "      border-radius: 50%;\n",
              "      cursor: pointer;\n",
              "      display: none;\n",
              "      fill: #1967D2;\n",
              "      height: 32px;\n",
              "      padding: 0 0 0 0;\n",
              "      width: 32px;\n",
              "    }\n",
              "\n",
              "    .colab-df-convert:hover {\n",
              "      background-color: #E2EBFA;\n",
              "      box-shadow: 0px 1px 2px rgba(60, 64, 67, 0.3), 0px 1px 3px 1px rgba(60, 64, 67, 0.15);\n",
              "      fill: #174EA6;\n",
              "    }\n",
              "\n",
              "    [theme=dark] .colab-df-convert {\n",
              "      background-color: #3B4455;\n",
              "      fill: #D2E3FC;\n",
              "    }\n",
              "\n",
              "    [theme=dark] .colab-df-convert:hover {\n",
              "      background-color: #434B5C;\n",
              "      box-shadow: 0px 1px 3px 1px rgba(0, 0, 0, 0.15);\n",
              "      filter: drop-shadow(0px 1px 2px rgba(0, 0, 0, 0.3));\n",
              "      fill: #FFFFFF;\n",
              "    }\n",
              "  </style>\n",
              "\n",
              "      <script>\n",
              "        const buttonEl =\n",
              "          document.querySelector('#df-323ae01e-14f4-4292-be8c-91c4b4f2bf26 button.colab-df-convert');\n",
              "        buttonEl.style.display =\n",
              "          google.colab.kernel.accessAllowed ? 'block' : 'none';\n",
              "\n",
              "        async function convertToInteractive(key) {\n",
              "          const element = document.querySelector('#df-323ae01e-14f4-4292-be8c-91c4b4f2bf26');\n",
              "          const dataTable =\n",
              "            await google.colab.kernel.invokeFunction('convertToInteractive',\n",
              "                                                     [key], {});\n",
              "          if (!dataTable) return;\n",
              "\n",
              "          const docLinkHtml = 'Like what you see? Visit the ' +\n",
              "            '<a target=\"_blank\" href=https://colab.research.google.com/notebooks/data_table.ipynb>data table notebook</a>'\n",
              "            + ' to learn more about interactive tables.';\n",
              "          element.innerHTML = '';\n",
              "          dataTable['output_type'] = 'display_data';\n",
              "          await google.colab.output.renderOutput(dataTable, element);\n",
              "          const docLink = document.createElement('div');\n",
              "          docLink.innerHTML = docLinkHtml;\n",
              "          element.appendChild(docLink);\n",
              "        }\n",
              "      </script>\n",
              "    </div>\n",
              "  </div>\n",
              "  "
            ]
          },
          "metadata": {},
          "execution_count": 8
        }
      ],
      "source": [
        "df.head(6)"
      ]
    },
    {
      "cell_type": "markdown",
      "metadata": {
        "id": "t5ZdPTzDS7Su"
      },
      "source": [
        "If you look closely, you'll notice that not all of the feature names in `data` match those in `DESCR`.  So write a line of code that prints out the actual feature names, similar to how you printed `housing.DESCR` earlier. "
      ]
    },
    {
      "cell_type": "code",
      "execution_count": null,
      "metadata": {
        "colab": {
          "base_uri": "https://localhost:8080/"
        },
        "id": "OfHx5Ob-S7Su",
        "outputId": "6888bbca-135c-4990-e090-f4b85adc1a0f"
      },
      "outputs": [
        {
          "output_type": "execute_result",
          "data": {
            "text/plain": [
              "Index(['Id', 'MSSubClass', 'MSZoning', 'LotFrontage', 'LotArea', 'Street',\n",
              "       'Alley', 'LotShape', 'LandContour', 'Utilities', 'LotConfig',\n",
              "       'LandSlope', 'Neighborhood', 'Condition1', 'Condition2', 'BldgType',\n",
              "       'HouseStyle', 'OverallQual', 'OverallCond', 'YearBuilt', 'YearRemodAdd',\n",
              "       'RoofStyle', 'RoofMatl', 'Exterior1st', 'Exterior2nd', 'MasVnrType',\n",
              "       'MasVnrArea', 'ExterQual', 'ExterCond', 'Foundation', 'BsmtQual',\n",
              "       'BsmtCond', 'BsmtExposure', 'BsmtFinType1', 'BsmtFinSF1',\n",
              "       'BsmtFinType2', 'BsmtFinSF2', 'BsmtUnfSF', 'TotalBsmtSF', 'Heating',\n",
              "       'HeatingQC', 'CentralAir', 'Electrical', '1stFlrSF', '2ndFlrSF',\n",
              "       'LowQualFinSF', 'GrLivArea', 'BsmtFullBath', 'BsmtHalfBath', 'FullBath',\n",
              "       'HalfBath', 'BedroomAbvGr', 'KitchenAbvGr', 'KitchenQual',\n",
              "       'TotRmsAbvGrd', 'Functional', 'Fireplaces', 'FireplaceQu', 'GarageType',\n",
              "       'GarageYrBlt', 'GarageFinish', 'GarageCars', 'GarageArea', 'GarageQual',\n",
              "       'GarageCond', 'PavedDrive', 'WoodDeckSF', 'OpenPorchSF',\n",
              "       'EnclosedPorch', '3SsnPorch', 'ScreenPorch', 'PoolArea', 'PoolQC',\n",
              "       'Fence', 'MiscFeature', 'MiscVal', 'MoSold', 'YrSold', 'SaleType',\n",
              "       'SaleCondition'],\n",
              "      dtype='object')"
            ]
          },
          "metadata": {},
          "execution_count": 38
        }
      ],
      "source": [
        "# df.head(1)\n",
        "# df.keys()\n",
        "df.columns"
      ]
    },
    {
      "cell_type": "markdown",
      "metadata": {
        "id": "-EK-7EHiS7Sv"
      },
      "source": [
        "## Basic Manipulations on the Data\n",
        "\n",
        "What is the shape of the data?  How many features are there?  How many samples?\n",
        "Write code to print a statement of the form:\n",
        "\n",
        "    num samples=xxx, num features=yy"
      ]
    },
    {
      "cell_type": "code",
      "execution_count": null,
      "metadata": {
        "colab": {
          "base_uri": "https://localhost:8080/"
        },
        "id": "6NdJZP0BS7Sv",
        "outputId": "71697a69-f668-4169-d0c8-e7da8e80ae32"
      },
      "outputs": [
        {
          "output_type": "stream",
          "name": "stdout",
          "text": [
            "num samples=1460, num features=80\n"
          ]
        }
      ],
      "source": [
        "samples = df.shape[0]\n",
        "features = df.shape[1]\n",
        "print('num samples=',samples,', num features=',features,sep='') # row count"
      ]
    },
    {
      "cell_type": "markdown",
      "metadata": {
        "id": "6u3cAdN1S7Sv"
      },
      "source": [
        "Create a NumPy target vector `y` from the values in `housing.target` using the `numpy.array` command."
      ]
    },
    {
      "cell_type": "code",
      "execution_count": null,
      "metadata": {
        "colab": {
          "base_uri": "https://localhost:8080/"
        },
        "id": "MLUTBmqLS7Sv",
        "outputId": "12d486b9-298b-4434-c7b0-407648fbcf46"
      },
      "outputs": [
        {
          "output_type": "stream",
          "name": "stdout",
          "text": [
            "[208500. 181500. 223500. ... 266500. 142125. 147500.]\n"
          ]
        }
      ],
      "source": [
        "import numpy as np\n",
        "# TODO\n",
        "y = np.array(housing.target)\n",
        "print(y)"
      ]
    },
    {
      "cell_type": "markdown",
      "metadata": {
        "id": "degsZTGDS7Sv"
      },
      "source": [
        "Use the target vector `y` to find the mean sale price in thousands of dollars and the fraction of homes that are above $250k. Write code that prints statements of the form:\n",
        "\n",
        "    The mean house price is xxx.yy thousands of dollars.\n",
        "    Only xx.y percent are above $250k."
      ]
    },
    {
      "cell_type": "code",
      "execution_count": null,
      "metadata": {
        "colab": {
          "base_uri": "https://localhost:8080/"
        },
        "id": "2vfik4bYS7Sw",
        "outputId": "8c6f53d4-2be2-4604-dce5-e840060e3e97"
      },
      "outputs": [
        {
          "output_type": "stream",
          "name": "stdout",
          "text": [
            "The mean house price is 180921.19589041095  thousands of dollars.\n",
            "Only 14.863013698630137 percent are above $250k.\n"
          ]
        }
      ],
      "source": [
        "ym = np.mean(y)\n",
        "print('The mean house price is',ym,' thousands of dollars.')\n",
        "y250 = np.mean(y>250000)*100\n",
        "print('Only',y250,'percent are above $250k.')"
      ]
    },
    {
      "cell_type": "markdown",
      "metadata": {
        "id": "fvbf_JK9S7Sw"
      },
      "source": [
        "## Visualizing the Data\n",
        "\n",
        "Python's `matplotlib` has very good routines for plotting data that closely follow the syntax of MATLAB plotting commands.  You can load the `matplotlib` package with the following commands."
      ]
    },
    {
      "cell_type": "code",
      "execution_count": null,
      "metadata": {
        "id": "dw83-uz3S7Sw"
      },
      "outputs": [],
      "source": [
        "import matplotlib\n",
        "import matplotlib.pyplot as plt\n",
        "%matplotlib inline"
      ]
    },
    {
      "cell_type": "markdown",
      "metadata": {
        "id": "66eV6oILS7Sw"
      },
      "source": [
        "Similar to the `y` vector, let's create a NumPy vector `x` that contains the values in the `1stFlrSF` column, which represents the area of the first floor of the house in units of square-feet."
      ]
    },
    {
      "cell_type": "code",
      "execution_count": null,
      "metadata": {
        "id": "xU9LtVl0S7Sw"
      },
      "outputs": [],
      "source": [
        "# TODO\n",
        "x = np.array(df['1stFlrSF'])"
      ]
    },
    {
      "cell_type": "markdown",
      "metadata": {
        "id": "E8FDVIs5S7Sw"
      },
      "source": [
        "Create a scatter plot of the price versus the `1stFlrSF` attribute.  You can use either `plt.plot(...,'o')` or `plt.scatter`.  Make sure your plot has grid lines and label the axes with reasonable labels, so that someone else can understand the plot.  "
      ]
    },
    {
      "cell_type": "code",
      "execution_count": null,
      "metadata": {
        "colab": {
          "base_uri": "https://localhost:8080/",
          "height": 282
        },
        "id": "qJzkjAIcS7Sw",
        "outputId": "0ebf700d-1975-410c-d196-5d7394fed542"
      },
      "outputs": [
        {
          "output_type": "execute_result",
          "data": {
            "text/plain": [
              "[<matplotlib.lines.Line2D at 0x7f3e870a3b50>]"
            ]
          },
          "metadata": {},
          "execution_count": 64
        },
        {
          "output_type": "display_data",
          "data": {
            "text/plain": [
              "<Figure size 432x288 with 1 Axes>"
            ],
            "image/png": "[encoded data removed]"
          },
          "metadata": {
            "needs_background": "light"
          }
        }
      ],
      "source": [
        "plt.plot(x,y,'ko')"
      ]
    },
    {
      "cell_type": "markdown",
      "metadata": {
        "id": "XoITbHdVS7Sx"
      },
      "source": [
        "## Fitting a Simple Linear Model\n",
        "\n",
        "Let's try to predict the house price from the area of the first floor.  To do this, we will write a simple function that performs a least-squares linear fit.  Use the formulae from the notes to compute the parameters $\\beta_0,\\beta_1$ in the linear model $y \\approx \\beta_0 + \\beta_1 x$, as well as the coefficient of determination, $R^2$."
      ]
    },
    {
      "cell_type": "code",
      "execution_count": null,
      "metadata": {
        "id": "WEbWS6qcS7Sx"
      },
      "outputs": [],
      "source": [
        "def fit_linear(x,y):\n",
        "    \"\"\"\n",
        "    Given vectors of data points (x,y), performs a fit for the linear model:\n",
        "       yhat = beta0 + beta1*x, \n",
        "    The function returns beta0, beta1 and rsq, where rsq is the coefficient of determination.\n",
        "    \"\"\"\n",
        "    xm = np.mean(x)\n",
        "    ym = np.mean(y)\n",
        "    sxx = np.mean((x-xm)**2)\n",
        "    syy = np.mean((y-ym)**2)\n",
        "    syx = np.mean((y-ym)*(x-xm))\n",
        "    beta1 = syx/sxx\n",
        "    beta0 = ym - beta1*xm\n",
        "    rsq = syx**2/sxx/syy\n",
        "\n",
        "    # print(beta0,beta1,rsq)\n",
        "\n",
        "    return beta0, beta1, rsq"
      ]
    },
    {
      "cell_type": "markdown",
      "metadata": {
        "id": "7xxv8AnxS7Sx"
      },
      "source": [
        "Using the function `fit_linear` above, print the values `beta0`, `beta1` and `rsq` for the linear model."
      ]
    },
    {
      "cell_type": "code",
      "execution_count": null,
      "metadata": {
        "colab": {
          "base_uri": "https://localhost:8080/"
        },
        "id": "mqgPbCcgS7Sx",
        "outputId": "d2391cbf-951b-405f-ed36-a4d2ad3ac351"
      },
      "outputs": [
        {
          "output_type": "stream",
          "name": "stdout",
          "text": [
            "36173.44679512127 124.5006222206582 0.3670568696959656\n",
            "beta 0 is 36173.44679512127\n",
            "beta 1 is 124.5006222206582\n",
            "rsq is 0.3670568696959656\n"
          ]
        }
      ],
      "source": [
        "[beta0 , beta1 , rsq] = fit_linear(x,y)\n",
        "print('beta 0 is',beta0)\n",
        "print('beta 1 is',beta1)\n",
        "print('rsq is',rsq)"
      ]
    },
    {
      "cell_type": "markdown",
      "metadata": {
        "id": "LCfhtvTgS7Sx"
      },
      "source": [
        "Generate a scatter plot similar to above, but now with the regression line superimposed.  You can do this by first creating a vector of linearly spaced points `xp` that span the range from the minimum value in `x` to the maximum value in `x`, and then computing the corresponding linear predictions `yp`, and finally superimposing the plot of `yp` versus `xp`."
      ]
    },
    {
      "cell_type": "code",
      "execution_count": null,
      "metadata": {
        "colab": {
          "base_uri": "https://localhost:8080/",
          "height": 282
        },
        "id": "BFPpJk2ES7Sx",
        "outputId": "8f461dc7-d29e-4593-f3bd-4caaf3f439c8"
      },
      "outputs": [
        {
          "output_type": "execute_result",
          "data": {
            "text/plain": [
              "[<matplotlib.lines.Line2D at 0x7f3e86ccb3a0>]"
            ]
          },
          "metadata": {},
          "execution_count": 84
        },
        {
          "output_type": "display_data",
          "data": {
            "text/plain": [
              "<Figure size 432x288 with 1 Axes>"
            ],
            "image/png": "[encoded data removed]"
          },
          "metadata": {
            "needs_background": "light"
          }
        }
      ],
      "source": [
        "# TODO\n",
        "xp = np.linspace(np.min(x),np.max(x),100)\n",
        "yp = beta0 + beta1*xp\n",
        "plt.plot(x,y,'ko')\n",
        "plt.plot(xp,yp,'b')"
      ]
    },
    {
      "cell_type": "code",
      "execution_count": null,
      "metadata": {
        "id": "I_SJ6-VFS7Sx"
      },
      "outputs": [],
      "source": []
    },
    {
      "cell_type": "markdown",
      "metadata": {
        "id": "1kJmBqOAS7Sy"
      },
      "source": [
        "# Compute coefficients of determination for all features\n",
        "\n",
        "Finally, we will compute the $R^2$ values for all floating-point features in the dataset and print the values in a table. Your table should look like the following, where each the first column is the feature name and the second column is the $R^2$ value.\n",
        "\n",
        "    Id             0.000\n",
        "    MSSubClass     0.007\n",
        "    LotFrontage    0.124\n",
        "    ...            ...\n",
        "\n",
        "To index over the set of columns in a dataframe `df`, you can either loop over the name string `str` in the `df.column` list and then extract the column data via `df[str]`, or loop over the integer column index `j` and then extract the column data using `df.iloc[:,j]`.\n",
        "\n",
        "Only consider the features with datatype `float64`.  (We'll learn how to handle \"categorical\" data in the next unit.) You can check the datatype of a feature using the `df.dtypes` method.\n",
        "\n",
        "Also, some features have a few missing data entries that you will need to omit.  By default, pandas codes the missing data as NaN, and so if you don't omit the missing data your $R^2$ values will also be NaN.  Check for the presence/absence of NaNs using either `df.notna()` in pandas or `np.isnan()` in numpy, and then compute the linear fit on the non-NaN data for each feature.  You can do the last part by constructing an array of logical values `i_valid` and then extracting the valid datapoints via `x[i_valid]` and `y[i_valid]`."
      ]
    },
    {
      "cell_type": "code",
      "execution_count": null,
      "metadata": {
        "colab": {
          "base_uri": "https://localhost:8080/"
        },
        "id": "hYjLPGx2S7Sy",
        "outputId": "96aa0894-ee0f-43d8-9378-7cca32d7520e"
      },
      "outputs": [
        {
          "output_type": "stream",
          "name": "stdout",
          "text": [
            "Id             0.000\n",
            "MSSubClass     0.007\n",
            "LotFrontage    0.124\n",
            "LotArea        0.070\n",
            "OverallQual    0.626\n",
            "OverallCond    0.006\n",
            "YearBuilt      0.273\n",
            "YearRemodAdd   0.257\n",
            "MasVnrArea     0.228\n",
            "BsmtFinSF1     0.149\n",
            "BsmtFinSF2     0.000\n",
            "BsmtUnfSF      0.046\n",
            "TotalBsmtSF    0.376\n",
            "1stFlrSF       0.367\n",
            "2ndFlrSF       0.102\n",
            "LowQualFinSF   0.001\n",
            "GrLivArea      0.502\n",
            "BsmtFullBath   0.052\n",
            "BsmtHalfBath   0.000\n",
            "FullBath       0.314\n",
            "HalfBath       0.081\n",
            "BedroomAbvGr   0.028\n",
            "KitchenAbvGr   0.018\n",
            "TotRmsAbvGrd   0.285\n",
            "Fireplaces     0.218\n",
            "GarageYrBlt    0.237\n",
            "GarageCars     0.410\n",
            "GarageArea     0.389\n",
            "WoodDeckSF     0.105\n",
            "OpenPorchSF    0.100\n",
            "EnclosedPorch  0.017\n",
            "3SsnPorch      0.002\n",
            "ScreenPorch    0.012\n",
            "PoolArea       0.009\n",
            "MiscVal        0.000\n",
            "MoSold         0.002\n",
            "YrSold         0.001\n"
          ]
        }
      ],
      "source": [
        "for feature in df.select_dtypes(include=['float64']).columns:\n",
        "  x = df[feature]\n",
        "  isValid = x.notna()\n",
        "  beta0 , beta1 , rsq = fit_linear(x[isValid],y[isValid])\n",
        "\n",
        "  print(\"{:<14} {:.3f}\".format(feature, rsq))\n"
      ]
    }
  ],
  "metadata": {
    "anaconda-cloud": {},
    "kernelspec": {
      "display_name": "Python 3 (ipykernel)",
      "language": "python",
      "name": "python3"
    },
    "language_info": {
      "codemirror_mode": {
        "name": "ipython",
        "version": 3
      },
      "file_extension": ".py",
      "mimetype": "text/x-python",
      "name": "python",
      "nbconvert_exporter": "python",
      "pygments_lexer": "ipython3",
      "version": "3.9.13"
    },
    "varInspector": {
      "cols": {
        "lenName": 16,
        "lenType": 16,
        "lenVar": 40
      },
      "kernels_config": {
        "python": {
          "delete_cmd_postfix": "",
          "delete_cmd_prefix": "del ",
          "library": "var_list.py",
          "varRefreshCmd": "print(var_dic_list())"
        },
        "r": {
          "delete_cmd_postfix": ") ",
          "delete_cmd_prefix": "rm(",
          "library": "var_list.r",
          "varRefreshCmd": "cat(var_dic_list()) "
        }
      },
      "types_to_exclude": [
        "module",
        "function",
        "builtin_function_or_method",
        "instance",
        "_Feature"
      ],
      "window_display": false
    },
    "colab": {
      "provenance": []
    }
  },
  "nbformat": 4,
  "nbformat_minor": 0
}