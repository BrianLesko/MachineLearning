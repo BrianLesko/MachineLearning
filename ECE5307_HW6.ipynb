{
 "cells": [
  {
   "attachments": {},
   "cell_type": "markdown",
   "metadata": {},
   "source": [
    "# **ECE 5307 Excerise Set 6**\n",
    "    Authored by Brian Lesko, a Graduate Researcher and Teaching Associate, a Masters of mechanical engineering student, studying mechatronic controls, robotics, and machine learning.\n",
    "\n",
    "    This documenet is originally an interactive python notebook\n",
    "\n",
    "    Contents: \n",
    "    \n",
    "    \n",
    " "
   ]
  },
  {
   "attachments": {},
   "cell_type": "markdown",
   "metadata": {},
   "source": [
    "1a "
   ]
  },
  {
   "attachments": {},
   "cell_type": "markdown",
   "metadata": {},
   "source": [
    "Making Random Training Data"
   ]
  },
  {
   "cell_type": "code",
   "execution_count": 129,
   "metadata": {},
   "outputs": [
    {
     "name": "stdout",
     "output_type": "stream",
     "text": [
      "X =            0         1         2         3         4         5         6  \\\n",
      "0  0.270235  0.014499  0.926122  0.556213  0.011771  0.827341  0.047094   \n",
      "1  0.555763  0.558702  0.829216  0.552561  0.823174  0.775014  0.407019   \n",
      "\n",
      "          7         8         9  \n",
      "0  0.503951  0.710150  0.559045  \n",
      "1  0.704150  0.140623  0.443917  \n",
      "X size =  (100, 10)\n"
     ]
    }
   ],
   "source": [
    "import numpy as np\n",
    "# create a random matrix with p predictors and n samples to use as training data\n",
    "p = 10\n",
    "n = 100\n",
    "X = np.random.rand(n,p)\n",
    "\n",
    "# convert X to a pandas df\n",
    "import pandas as pd\n",
    "X = pd.DataFrame(X)\n",
    "#print the first 2 rows of X_df\n",
    "print('X = ', X[0:2])\n",
    "\n",
    "#print the size of X_df\n",
    "print('X size = ', X.shape)\n"
   ]
  },
  {
   "attachments": {},
   "cell_type": "markdown",
   "metadata": {},
   "source": [
    "Defining the model with random weight parameters "
   ]
  },
  {
   "cell_type": "code",
   "execution_count": 130,
   "metadata": {},
   "outputs": [
    {
     "name": "stdout",
     "output_type": "stream",
     "text": [
      "w =  (11, 1)\n"
     ]
    }
   ],
   "source": [
    "# create a random vector of weights\n",
    "w = np.random.rand(p+1,1)\n",
    "\n",
    "#print the size of w\n",
    "print('w = ', w.shape)\n",
    "\n",
    "# create a random vector of targets \n",
    "y = np.random.rand(n,1)\n"
   ]
  },
  {
   "attachments": {},
   "cell_type": "markdown",
   "metadata": {},
   "source": [
    "1c) "
   ]
  },
  {
   "attachments": {},
   "cell_type": "markdown",
   "metadata": {},
   "source": [
    "Computing the loss and gradient"
   ]
  },
  {
   "cell_type": "code",
   "execution_count": 131,
   "metadata": {},
   "outputs": [
    {
     "name": "stdout",
     "output_type": "stream",
     "text": [
      "The Cost at X is J =  323.0839963689794\n",
      "Jgrad =  (11, 1)\n",
      "The dimensions of Jgrad and w are equal\n"
     ]
    }
   ],
   "source": [
    "def Jeval_param(w,X,y):\n",
    "    # create a matrix A with the column of ones and then the predictors using hstack\n",
    "    A = np.hstack((np.ones((X.shape[0],1)),X))\n",
    "\n",
    "    # the loss is the binary cross entropy\n",
    "    z = np.dot(A,w)\n",
    "    J = np.sum(y-1/z)**2\n",
    "\n",
    "    # Gradient of the loss\n",
    "    df_dz = 2*(y-1/z)*(-1/z**2)\n",
    "    # compute the gradient of J\n",
    "    Jgrad = A.T.dot(df_dz)\n",
    "\n",
    "    return J,Jgrad\n",
    "\n",
    "# Test the function\n",
    "J,Jgrad = Jeval_param(w,X,y)\n",
    "\n",
    "# print \"the the cost J, or the model penalty, at X given the oberseved y is\" \n",
    "print('The Cost at X is J = ', J)\n",
    "print('Jgrad = ', Jgrad.shape)\n",
    "\n",
    "# check if the dimensions of Jgrad are equal to the dimensions of w\n",
    "if Jgrad.shape == w.shape:\n",
    "    print('The dimensions of Jgrad and w are equal')\n",
    "else:\n",
    "    print('The dimensions of Jgrad and w are not equal')\n",
    "\n",
    "\n",
    "\n"
   ]
  },
  {
   "attachments": {},
   "cell_type": "markdown",
   "metadata": {},
   "source": [
    "1d) "
   ]
  },
  {
   "cell_type": "code",
   "execution_count": 132,
   "metadata": {},
   "outputs": [
    {
     "name": "stdout",
     "output_type": "stream",
     "text": [
      "After gradient descent, the gradient is =  2473.1213871932705\n",
      "The last few entries of the gradient descent history are =  [2473.12138719279, 2473.12138719291, 2473.12138719303, 2473.12138719315, 2473.1213871932705]\n"
     ]
    }
   ],
   "source": [
    "def gd(Jeval, lr, winit, nit, X, y):\n",
    "    #initialize the weights to winit\n",
    "    w0 = winit\n",
    "\n",
    "    #initialize the history\n",
    "    hist = {'J': [], 'w': []}\n",
    "\n",
    "    #use a single for loop to minimize J using gradient descent\n",
    "    for i in range(nit):\n",
    "\n",
    "        # Evaluate the cost function and gradient\n",
    "        J0, Jgrad0 = Jeval(w0, X, y)\n",
    "\n",
    "        # Take a gradient descent step\n",
    "        w0 = w0 - lr * Jgrad0\n",
    "\n",
    "        # Append the cost function and weights to the history\n",
    "        hist['J'].append(J0)\n",
    "        hist['w'].append(w0)\n",
    "\n",
    "    return w0, J0, hist\n",
    "\n",
    "\n",
    "# test the gradient descent function\n",
    "lr = 1e-4\n",
    "nit = 2000\n",
    "import numpy.random as rng\n",
    "winit = rng.standard_normal((p+1,1))\n",
    "w_out, J_out, hist = gd(Jeval_param, lr, winit, nit, X, y)\n",
    "\n",
    "# Check that if gradient is zero\n",
    "print('After gradient descent, the gradient is = ', J_out)\n",
    "\n",
    "# Check the last few entries of the gradient descent history\n",
    "print('The last few entries of the gradient descent history are = ', hist['J'][-5:])\n"
   ]
  },
  {
   "attachments": {},
   "cell_type": "markdown",
   "metadata": {},
   "source": [
    "The data is random so I dont expect to get a zero gradient after the number of interations given"
   ]
  },
  {
   "attachments": {},
   "cell_type": "markdown",
   "metadata": {},
   "source": [
    "### Problem 2"
   ]
  },
  {
   "cell_type": "code",
   "execution_count": 133,
   "metadata": {},
   "outputs": [
    {
     "name": "stdout",
     "output_type": "stream",
     "text": [
      "X =  (100, 10)\n",
      "yhat =  (100, 1)\n",
      "The shape of dj_dw is =  (100, 11)\n",
      "The Cost at X is J =  48899.69925144309\n",
      "W =  (11, 1)\n",
      "dj_dw =  (100, 11)\n",
      "dj_db =  (100, 1)\n"
     ]
    }
   ],
   "source": [
    "def Jeval_param(w,b,X,y):\n",
    "    # create a matrix A with the column of ones and then the predictors using hstack\n",
    "    A = np.hstack((np.ones((X.shape[0],1)),X))\n",
    "\n",
    "    # The prediction yhat is a vector of predictions\n",
    "    yhat = np.dot(A,w)\n",
    "    # print the shape of yhat\n",
    "    print('X = ', X.shape)\n",
    "    print('yhat = ', yhat.shape)\n",
    "    ly = np.log(y) \n",
    "    lyhat = np.log(yhat)\n",
    "\n",
    "    # The cost function is the sum of the squared errors\n",
    "    J = np.sum(ly-lyhat)**2\n",
    "\n",
    "    # Gradients of the loss\n",
    "    dj_dw = 2*(ly-lyhat)*(-1/yhat)*A\n",
    "    print('The shape of dj_dw is = ', dj_dw.shape)\n",
    "    dj_db = 2*(ly-lyhat)*(-1/yhat)\n",
    "\n",
    "    return J,dj_dw,dj_db\n",
    "\n",
    "# test values \n",
    "# b is the first entry of w\n",
    "b = w[0]\n",
    "# w is the rest of the entries of w\n",
    "\n",
    "# Test the function\n",
    "J,dj_dw,dj_db = Jeval_param(w,b,X,y)\n",
    "print('The Cost at X is J = ', J)\n",
    "print('W = ', w.shape)\n",
    "print('dj_dw = ', dj_dw.shape)\n",
    "print('dj_db = ', dj_db.shape)"
   ]
  },
  {
   "attachments": {},
   "cell_type": "markdown",
   "metadata": {},
   "source": [
    "### Problem 3"
   ]
  },
  {
   "cell_type": "code",
   "execution_count": 134,
   "metadata": {},
   "outputs": [
    {
     "data": {
      "image/png": "[encoded data removed]",
      "text/plain": [
       "<Figure size 640x480 with 1 Axes>"
      ]
     },
     "metadata": {},
     "output_type": "display_data"
    }
   ],
   "source": [
    "pi = np.pi\n",
    "x = np.linspace(0, 2*pi, 100)\n",
    "\n",
    "f = 1/4 * x**2 + np.sin(2*pi*x)**2\n",
    "\n",
    "# plot the function\n",
    "import matplotlib.pyplot as plt\n",
    "plt.plot(x,f)\n",
    "plt.show()\n",
    "\n"
   ]
  }
 ],
 "metadata": {
  "kernelspec": {
   "display_name": "virtualmachine",
   "language": "python",
   "name": "python3"
  },
  "language_info": {
   "codemirror_mode": {
    "name": "ipython",
    "version": 3
   },
   "file_extension": ".py",
   "mimetype": "text/x-python",
   "name": "python",
   "nbconvert_exporter": "python",
   "pygments_lexer": "ipython3",
   "version": "3.10.9"
  },
  "orig_nbformat": 4,
  "vscode": {
   "interpreter": {
    "hash": "201717b794811811e3831f2416a3b2fd7fec8f6f47d469ce0f216595a8d4fcac"
   }
  }
 },
 "nbformat": 4,
 "nbformat_minor": 2
}
